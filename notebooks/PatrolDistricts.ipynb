{
 "cells": [
  {
   "cell_type": "markdown",
   "id": "4edba280-b1aa-4777-be51-6c4b59b45a19",
   "metadata": {},
   "source": [
    "# Patrol Districting with Unequal Workload Constraints\n",
    "\n",
    "This is an example of creating Patrol Districts using a p-median model, with workload inequality constraints. The solution makes the total number of calls in the resulting districts approximately equal."
   ]
  },
  {
   "cell_type": "code",
   "execution_count": null,
   "id": "dd2e6f54-56c5-4b24-8c7b-68c3222b7474",
   "metadata": {},
   "outputs": [],
   "source": [
    "from crimepy import data, pmed\n",
    "from crimepy.cdcplot import plt\n",
    "\n",
    "carrollton = data.load_carrollton_data()\n",
    "carrollton.head()"
   ]
  },
  {
   "cell_type": "code",
   "execution_count": null,
   "id": "c40c14af-e689-4ca8-9225-d349fd36d149",
   "metadata": {},
   "outputs": [],
   "source": [
    "# On my machine, Gurobi takes about 2 minutes\n",
    "# and HiGHS around 30 minutes\n",
    "# will not solve at all with CBC\n",
    "if 'GUROBI_CMD' in pmed.av_solv:\n",
    "    loc_solv = pmed.pulp.GUROBI_CMD\n",
    "elif 'HiGHS' in pmed.av_solv:\n",
    "    loc_solv = pmed.pulp.HiGHS\n",
    "else:\n",
    "    print('You will need to figure out what solver you want to use')\n",
    "    loc_solv = None\n",
    "\n",
    "# Creating the base object\n",
    "pmed12 = pmed.pmed(carrollton,'CountCalls','PDGrid',\n",
    "                   ta=12,ine=0.1,th=5260,buffer_distance=2000)"
   ]
  },
  {
   "cell_type": "code",
   "execution_count": null,
   "id": "e78ee235-57d1-4f9b-8519-2a7dec1ededf",
   "metadata": {},
   "outputs": [],
   "source": [
    "# 12 area solution\n",
    "pmed12.solve(solver=loc_solv())\n",
    "pmed12.map_plot()"
   ]
  },
  {
   "cell_type": "code",
   "execution_count": null,
   "id": "588ffec5-3b63-487c-a50a-f9a77c490130",
   "metadata": {},
   "outputs": [],
   "source": [
    "# Can see that there are some isolated components\n",
    "# can run subtours and then warm start (if your solver allows it)\n",
    "stres = pmed12.collect_subtours()\n",
    "pmed12.solve(solver=loc_solv(warmStart=True))\n",
    "pmed12.map_plot()"
   ]
  }
 ],
 "metadata": {
  "kernelspec": {
   "display_name": "Python 3",
   "language": "python",
   "name": "python3"
  },
  "language_info": {
   "codemirror_mode": {
    "name": "ipython",
    "version": 3
   },
   "file_extension": ".py",
   "mimetype": "text/x-python",
   "name": "python",
   "nbconvert_exporter": "python",
   "pygments_lexer": "ipython3",
   "version": "3.11.13"
  }
 },
 "nbformat": 4,
 "nbformat_minor": 5
}
